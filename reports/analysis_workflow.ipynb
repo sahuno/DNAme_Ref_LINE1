{
 "cells": [
  {
   "cell_type": "markdown",
   "metadata": {},
   "source": [
    "Reference line 1 expression and methylation"
   ]
  },
  {
   "cell_type": "markdown",
   "metadata": {},
   "source": [
    "# step 1: \n",
    "Get overlaps between full lenghth active LINE1 (L1Base) and locus specific LINE-1 RNAseq data (Sasha squire pipeline). for sanity checks.\n",
    "```\n",
    "$ sh /data1/greenbab/users/ahunos/apps/workflows/methylation_workflows/DNAme_Ref_LINE1/scripts/mergeSquireRNA_cordinates_master.sh\n",
    "```\n",
    "#input readcounts table from sasha RNAseq pipeline that runs Squire for locus specific LINE-1 RNAseq data\n",
    "\n",
    "# step 2: \n",
    "```\n",
    "Rscript /data1/greenbab/users/ahunos/apps/workflows/methylation_workflows/DNAme_Ref_LINE1/scripts/R/filter_SquireL1_L1Base.R\n",
    "```\n",
    "\n",
    "# step 3: \n",
    "RNA-seq differential expression analysis, locus specific LINE-1 and \n",
    "```\n",
    "Rscript /data1/greenbab/users/ahunos/apps/workflows/methylation_workflows/DNAme_Ref_LINE1/scripts/R/DE_locusSpecific_LINE1.R\n",
    "```\n",
    "\n",
    "# step 4: \n",
    "merge RNAseq and DNAme data\n",
    "```\n",
    "Rscript /data1/greenbab/users/ahunos/apps/workflows/methylation_workflows/DNAme_Ref_LINE1/scripts/R/mergeDNAme_and_RNASeq.R\n",
    "```"
   ]
  },
  {
   "cell_type": "code",
   "execution_count": null,
   "metadata": {},
   "outputs": [],
   "source": []
  },
  {
   "cell_type": "markdown",
   "metadata": {},
   "source": [
    "there are 3mil sq entries\n",
    "3733814 /data1/greenbab/projects/triplicates_epigenetics_diyva/RNA/CT/squire_te_fwd.tsv\n",
    "\n",
    "repeat maker is larger\n",
    "5147736 /Users/ahunos/myWork/research/Greenbaum/rmsk.txt"
   ]
  },
  {
   "cell_type": "code",
   "execution_count": null,
   "metadata": {},
   "outputs": [],
   "source": []
  }
 ],
 "metadata": {
  "kernelspec": {
   "display_name": "numpyro",
   "language": "python",
   "name": "numpyro"
  },
  "language_info": {
   "codemirror_mode": {
    "name": "ipython",
    "version": 3
   },
   "file_extension": ".py",
   "mimetype": "text/x-python",
   "name": "python",
   "nbconvert_exporter": "python",
   "pygments_lexer": "ipython3",
   "version": "3.12.0"
  }
 },
 "nbformat": 4,
 "nbformat_minor": 2
}
